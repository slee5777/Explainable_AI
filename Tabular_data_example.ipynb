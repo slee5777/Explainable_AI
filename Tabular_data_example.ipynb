{
 "cells": [
  {
   "cell_type": "code",
   "execution_count": 47,
   "metadata": {
    "ExecuteTime": {
     "end_time": "2019-09-19T03:13:03.080704Z",
     "start_time": "2019-09-19T03:13:02.910582Z"
    }
   },
   "outputs": [],
   "source": [
    "from IPython.core.interactiveshell import InteractiveShell  \n",
    "InteractiveShell.ast_node_interactivity = \"all\"\n",
    "import pandas_profiling"
   ]
  },
  {
   "cell_type": "code",
   "execution_count": 1,
   "metadata": {
    "ExecuteTime": {
     "end_time": "2019-09-19T02:23:23.988344Z",
     "start_time": "2019-09-19T02:23:18.118691Z"
    }
   },
   "outputs": [],
   "source": [
    "from fastai.tabular import *"
   ]
  },
  {
   "cell_type": "code",
   "execution_count": 2,
   "metadata": {
    "ExecuteTime": {
     "end_time": "2019-09-19T02:24:49.337453Z",
     "start_time": "2019-09-19T02:24:46.720064Z"
    }
   },
   "outputs": [],
   "source": [
    "path = untar_data(URLs.ADULT_SAMPLE)\n",
    "df = pd.read_csv(path/'adult.csv')"
   ]
  },
  {
   "cell_type": "code",
   "execution_count": 5,
   "metadata": {
    "ExecuteTime": {
     "end_time": "2019-09-19T02:26:39.573472Z",
     "start_time": "2019-09-19T02:26:39.559510Z"
    }
   },
   "outputs": [
    {
     "data": {
      "text/html": [
       "<div>\n",
       "<style scoped>\n",
       "    .dataframe tbody tr th:only-of-type {\n",
       "        vertical-align: middle;\n",
       "    }\n",
       "\n",
       "    .dataframe tbody tr th {\n",
       "        vertical-align: top;\n",
       "    }\n",
       "\n",
       "    .dataframe thead th {\n",
       "        text-align: right;\n",
       "    }\n",
       "</style>\n",
       "<table border=\"1\" class=\"dataframe\">\n",
       "  <thead>\n",
       "    <tr style=\"text-align: right;\">\n",
       "      <th></th>\n",
       "      <th>age</th>\n",
       "      <th>workclass</th>\n",
       "      <th>fnlwgt</th>\n",
       "      <th>education</th>\n",
       "      <th>education-num</th>\n",
       "      <th>marital-status</th>\n",
       "      <th>occupation</th>\n",
       "      <th>relationship</th>\n",
       "      <th>race</th>\n",
       "      <th>sex</th>\n",
       "      <th>capital-gain</th>\n",
       "      <th>capital-loss</th>\n",
       "      <th>hours-per-week</th>\n",
       "      <th>native-country</th>\n",
       "      <th>salary</th>\n",
       "    </tr>\n",
       "  </thead>\n",
       "  <tbody>\n",
       "    <tr>\n",
       "      <th>0</th>\n",
       "      <td>49</td>\n",
       "      <td>Private</td>\n",
       "      <td>101320</td>\n",
       "      <td>Assoc-acdm</td>\n",
       "      <td>12.0</td>\n",
       "      <td>Married-civ-spouse</td>\n",
       "      <td>NaN</td>\n",
       "      <td>Wife</td>\n",
       "      <td>White</td>\n",
       "      <td>Female</td>\n",
       "      <td>0</td>\n",
       "      <td>1902</td>\n",
       "      <td>40</td>\n",
       "      <td>United-States</td>\n",
       "      <td>&gt;=50k</td>\n",
       "    </tr>\n",
       "    <tr>\n",
       "      <th>1</th>\n",
       "      <td>44</td>\n",
       "      <td>Private</td>\n",
       "      <td>236746</td>\n",
       "      <td>Masters</td>\n",
       "      <td>14.0</td>\n",
       "      <td>Divorced</td>\n",
       "      <td>Exec-managerial</td>\n",
       "      <td>Not-in-family</td>\n",
       "      <td>White</td>\n",
       "      <td>Male</td>\n",
       "      <td>10520</td>\n",
       "      <td>0</td>\n",
       "      <td>45</td>\n",
       "      <td>United-States</td>\n",
       "      <td>&gt;=50k</td>\n",
       "    </tr>\n",
       "  </tbody>\n",
       "</table>\n",
       "</div>"
      ],
      "text/plain": [
       "   age workclass  fnlwgt    education  education-num       marital-status  \\\n",
       "0   49   Private  101320   Assoc-acdm           12.0   Married-civ-spouse   \n",
       "1   44   Private  236746      Masters           14.0             Divorced   \n",
       "\n",
       "         occupation    relationship    race      sex  capital-gain  \\\n",
       "0               NaN            Wife   White   Female             0   \n",
       "1   Exec-managerial   Not-in-family   White     Male         10520   \n",
       "\n",
       "   capital-loss  hours-per-week  native-country salary  \n",
       "0          1902              40   United-States  >=50k  \n",
       "1             0              45   United-States  >=50k  "
      ]
     },
     "execution_count": 5,
     "metadata": {},
     "output_type": "execute_result"
    }
   ],
   "source": [
    "df.head(2)"
   ]
  },
  {
   "cell_type": "code",
   "execution_count": 45,
   "metadata": {
    "ExecuteTime": {
     "end_time": "2019-09-19T03:11:24.652526Z",
     "start_time": "2019-09-19T03:11:24.630549Z"
    }
   },
   "outputs": [
    {
     "name": "stdout",
     "output_type": "stream",
     "text": [
      "<class 'pandas.core.frame.DataFrame'>\n",
      "RangeIndex: 32561 entries, 0 to 32560\n",
      "Data columns (total 15 columns):\n",
      "age               32561 non-null int64\n",
      "workclass         32561 non-null object\n",
      "fnlwgt            32561 non-null int64\n",
      "education         32561 non-null object\n",
      "education-num     32074 non-null float64\n",
      "marital-status    32561 non-null object\n",
      "occupation        32049 non-null object\n",
      "relationship      32561 non-null object\n",
      "race              32561 non-null object\n",
      "sex               32561 non-null object\n",
      "capital-gain      32561 non-null int64\n",
      "capital-loss      32561 non-null int64\n",
      "hours-per-week    32561 non-null int64\n",
      "native-country    32561 non-null object\n",
      "salary            32561 non-null object\n",
      "dtypes: float64(1), int64(5), object(9)\n",
      "memory usage: 3.7+ MB\n"
     ]
    }
   ],
   "source": [
    "df.info()  # to check missing fields"
   ]
  },
  {
   "cell_type": "code",
   "execution_count": 48,
   "metadata": {
    "ExecuteTime": {
     "end_time": "2019-09-19T03:13:27.486377Z",
     "start_time": "2019-09-19T03:13:10.245965Z"
    }
   },
   "outputs": [
    {
     "data": {
      "text/html": [
       "\n",
       "        <iframe\n",
       "            width=\"100%\"\n",
       "            height=\"800px\"\n",
       "            src=\"ipynb_tmp\\profile_3277113791.html\"\n",
       "            frameborder=\"0\"\n",
       "            allowfullscreen\n",
       "        ></iframe>\n",
       "        "
      ],
      "text/plain": [
       "<IPython.lib.display.IFrame at 0x246ae0b0fd0>"
      ]
     },
     "metadata": {},
     "output_type": "display_data"
    },
    {
     "data": {
      "text/plain": []
     },
     "execution_count": 48,
     "metadata": {},
     "output_type": "execute_result"
    }
   ],
   "source": [
    "pandas_profiling.ProfileReport(df)"
   ]
  },
  {
   "cell_type": "code",
   "execution_count": 12,
   "metadata": {
    "ExecuteTime": {
     "end_time": "2019-09-19T02:44:59.179840Z",
     "start_time": "2019-09-19T02:44:59.174886Z"
    }
   },
   "outputs": [
    {
     "data": {
      "text/plain": [
       "range(30561, 32561)"
      ]
     },
     "execution_count": 12,
     "metadata": {},
     "output_type": "execute_result"
    }
   ],
   "source": [
    "valid_idx = range(len(df)-2000, len(df))\n",
    "valid_idx"
   ]
  },
  {
   "cell_type": "code",
   "execution_count": 8,
   "metadata": {
    "ExecuteTime": {
     "end_time": "2019-09-19T02:30:56.700352Z",
     "start_time": "2019-09-19T02:30:56.695355Z"
    }
   },
   "outputs": [],
   "source": [
    "dep_var = 'salary'\n",
    "cat_names = ['workclass', 'education', 'marital-status', 'occupation', 'relationship', 'race', 'sex', 'native-country']\n",
    "# cont_names defaults to: set(df.columns)-set(cat_names)-{dep_var}\n",
    "procs = [FillMissing, Categorify, Normalize]"
   ]
  },
  {
   "cell_type": "code",
   "execution_count": 14,
   "metadata": {
    "ExecuteTime": {
     "end_time": "2019-09-19T02:48:45.571521Z",
     "start_time": "2019-09-19T02:48:45.390740Z"
    }
   },
   "outputs": [],
   "source": [
    "data = TabularDataBunch.from_df(path, df, dep_var = dep_var, valid_idx = valid_idx, procs = procs, cat_names = cat_names)"
   ]
  },
  {
   "cell_type": "code",
   "execution_count": 26,
   "metadata": {
    "ExecuteTime": {
     "end_time": "2019-09-19T02:53:30.546055Z",
     "start_time": "2019-09-19T02:53:30.543039Z"
    }
   },
   "outputs": [
    {
     "name": "stdout",
     "output_type": "stream",
     "text": [
      "['education-num', 'age', 'hours-per-week', 'capital-gain', 'fnlwgt', 'capital-loss']\n"
     ]
    }
   ],
   "source": [
    "print(data.train_ds.cont_names)"
   ]
  },
  {
   "cell_type": "code",
   "execution_count": 20,
   "metadata": {
    "ExecuteTime": {
     "end_time": "2019-09-19T02:49:53.475185Z",
     "start_time": "2019-09-19T02:49:53.470168Z"
    }
   },
   "outputs": [
    {
     "data": {
      "text/plain": [
       "TabularList (30561 items)\n",
       "workclass  Private; education  Assoc-acdm; marital-status  Married-civ-spouse; occupation #na#; relationship  Wife; race  White; sex  Female; native-country  United-States; education-num_na False; education-num 0.7539; age 0.7598; hours-per-week -0.0358; capital-gain -0.1459; fnlwgt -0.8371; capital-loss 4.5067; ,workclass  Private; education  Masters; marital-status  Divorced; occupation  Exec-managerial; relationship  Not-in-family; race  White; sex  Male; native-country  United-States; education-num_na False; education-num 1.5376; age 0.3937; hours-per-week 0.3682; capital-gain 1.2670; fnlwgt 0.4449; capital-loss -0.2168; ,workclass  Private; education  HS-grad; marital-status  Divorced; occupation #na#; relationship  Unmarried; race  Black; sex  Female; native-country  United-States; education-num_na True; education-num -0.0297; age -0.0457; hours-per-week -0.6821; capital-gain -0.1459; fnlwgt -0.8857; capital-loss -0.2168; ,workclass  Self-emp-inc; education  Prof-school; marital-status  Married-civ-spouse; occupation  Prof-specialty; relationship  Husband; race  Asian-Pac-Islander; sex  Male; native-country  United-States; education-num_na False; education-num 1.9294; age -0.0457; hours-per-week -0.0358; capital-gain -0.1459; fnlwgt -0.7280; capital-loss -0.2168; ,workclass  Self-emp-not-inc; education  7th-8th; marital-status  Married-civ-spouse; occupation  Other-service; relationship  Wife; race  Black; sex  Female; native-country  United-States; education-num_na True; education-num -0.0297; age 0.2472; hours-per-week 0.7721; capital-gain -0.1459; fnlwgt -1.0172; capital-loss -0.2168; \n",
       "Path: C:\\Users\\sarad\\.fastai\\data\\adult_sample"
      ]
     },
     "execution_count": 20,
     "metadata": {},
     "output_type": "execute_result"
    }
   ],
   "source": [
    "data.train_ds.x"
   ]
  },
  {
   "cell_type": "code",
   "execution_count": 21,
   "metadata": {
    "ExecuteTime": {
     "end_time": "2019-09-19T02:50:51.972206Z",
     "start_time": "2019-09-19T02:50:51.966191Z"
    }
   },
   "outputs": [
    {
     "data": {
      "text/plain": [
       "CategoryList (30561 items)\n",
       ">=50k,>=50k,<50k,>=50k,<50k\n",
       "Path: C:\\Users\\sarad\\.fastai\\data\\adult_sample"
      ]
     },
     "execution_count": 21,
     "metadata": {},
     "output_type": "execute_result"
    }
   ],
   "source": [
    "data.train_ds.y"
   ]
  },
  {
   "cell_type": "code",
   "execution_count": 22,
   "metadata": {
    "ExecuteTime": {
     "end_time": "2019-09-19T02:51:41.860096Z",
     "start_time": "2019-09-19T02:51:41.854087Z"
    }
   },
   "outputs": [
    {
     "data": {
      "text/plain": [
       "TabularList (2000 items)\n",
       "workclass  Private; education  Bachelors; marital-status  Divorced; occupation  Prof-specialty; relationship  Unmarried; race  Black; sex  Female; native-country  United-States; education-num_na False; education-num 1.1457; age 0.5401; hours-per-week -0.6821; capital-gain -0.1459; fnlwgt 1.8465; capital-loss -0.2168; ,workclass  Private; education  Some-college; marital-status  Never-married; occupation  Sales; relationship  Not-in-family; race  White; sex  Female; native-country  United-States; education-num_na False; education-num -0.0297; age -1.0709; hours-per-week -2.0556; capital-gain -0.1459; fnlwgt 1.1295; capital-loss -0.2168; ,workclass  Private; education  HS-grad; marital-status  Divorced; occupation  Machine-op-inspct; relationship  Not-in-family; race  White; sex  Female; native-country  United-States; education-num_na False; education-num -0.4216; age 0.5401; hours-per-week -0.1974; capital-gain -0.1459; fnlwgt -0.1723; capital-loss -0.2168; ,workclass  Self-emp-not-inc; education  HS-grad; marital-status  Never-married; occupation  Craft-repair; relationship  Not-in-family; race  White; sex  Male; native-country  United-States; education-num_na False; education-num -0.4216; age 0.3937; hours-per-week -0.0358; capital-gain 1.7806; fnlwgt 0.8029; capital-loss -0.2168; ,workclass  Private; education  Bachelors; marital-status  Never-married; occupation  Exec-managerial; relationship  Own-child; race  Black; sex  Male; native-country  Germany; education-num_na False; education-num 1.1457; age -0.6315; hours-per-week -0.0358; capital-gain -0.1459; fnlwgt -1.0660; capital-loss -0.2168; \n",
       "Path: C:\\Users\\sarad\\.fastai\\data\\adult_sample"
      ]
     },
     "execution_count": 22,
     "metadata": {},
     "output_type": "execute_result"
    }
   ],
   "source": [
    "data.valid_ds.x"
   ]
  },
  {
   "cell_type": "code",
   "execution_count": 23,
   "metadata": {
    "ExecuteTime": {
     "end_time": "2019-09-19T02:51:59.171082Z",
     "start_time": "2019-09-19T02:51:59.166071Z"
    }
   },
   "outputs": [
    {
     "data": {
      "text/plain": [
       "CategoryList (2000 items)\n",
       "<50k,<50k,<50k,>=50k,<50k\n",
       "Path: C:\\Users\\sarad\\.fastai\\data\\adult_sample"
      ]
     },
     "execution_count": 23,
     "metadata": {},
     "output_type": "execute_result"
    }
   ],
   "source": [
    "data.valid_ds.y"
   ]
  },
  {
   "cell_type": "code",
   "execution_count": 33,
   "metadata": {
    "ExecuteTime": {
     "end_time": "2019-09-19T02:59:00.409930Z",
     "start_time": "2019-09-19T02:58:37.399246Z"
    }
   },
   "outputs": [
    {
     "name": "stdout",
     "output_type": "stream",
     "text": [
      "[[ 5 10  1 11  5  3  1 40  1]\n",
      " [ 5 16  5 13  2  5  1 40  1]]\n",
      "[[ 1.145728  0.540121 -0.682123 -0.145922  1.846477 -0.216787]\n",
      " [-0.029745 -1.070876 -2.055581 -0.145922  1.129466 -0.216787]]\n",
      "[0 0]\n"
     ]
    }
   ],
   "source": [
    "# to inspect the dataset for model training\n",
    "(cat_x, cont_x), y = next(iter(data.valid_dl))\n",
    "for o in (cat_x, cont_x, y): print(to_np(o[:2]))"
   ]
  },
  {
   "cell_type": "code",
   "execution_count": 35,
   "metadata": {
    "ExecuteTime": {
     "end_time": "2019-09-19T02:59:48.810400Z",
     "start_time": "2019-09-19T02:59:48.796438Z"
    }
   },
   "outputs": [
    {
     "data": {
      "text/html": [
       "<div>\n",
       "<style scoped>\n",
       "    .dataframe tbody tr th:only-of-type {\n",
       "        vertical-align: middle;\n",
       "    }\n",
       "\n",
       "    .dataframe tbody tr th {\n",
       "        vertical-align: top;\n",
       "    }\n",
       "\n",
       "    .dataframe thead th {\n",
       "        text-align: right;\n",
       "    }\n",
       "</style>\n",
       "<table border=\"1\" class=\"dataframe\">\n",
       "  <thead>\n",
       "    <tr style=\"text-align: right;\">\n",
       "      <th></th>\n",
       "      <th>age</th>\n",
       "      <th>workclass</th>\n",
       "      <th>fnlwgt</th>\n",
       "      <th>education</th>\n",
       "      <th>education-num</th>\n",
       "      <th>marital-status</th>\n",
       "      <th>occupation</th>\n",
       "      <th>relationship</th>\n",
       "      <th>race</th>\n",
       "      <th>sex</th>\n",
       "      <th>capital-gain</th>\n",
       "      <th>capital-loss</th>\n",
       "      <th>hours-per-week</th>\n",
       "      <th>native-country</th>\n",
       "      <th>salary</th>\n",
       "    </tr>\n",
       "  </thead>\n",
       "  <tbody>\n",
       "    <tr>\n",
       "      <th>30561</th>\n",
       "      <td>46</td>\n",
       "      <td>Private</td>\n",
       "      <td>384795</td>\n",
       "      <td>Bachelors</td>\n",
       "      <td>13.0</td>\n",
       "      <td>Divorced</td>\n",
       "      <td>Prof-specialty</td>\n",
       "      <td>Unmarried</td>\n",
       "      <td>Black</td>\n",
       "      <td>Female</td>\n",
       "      <td>0</td>\n",
       "      <td>0</td>\n",
       "      <td>32</td>\n",
       "      <td>United-States</td>\n",
       "      <td>&lt;50k</td>\n",
       "    </tr>\n",
       "    <tr>\n",
       "      <th>30562</th>\n",
       "      <td>24</td>\n",
       "      <td>Private</td>\n",
       "      <td>309055</td>\n",
       "      <td>Some-college</td>\n",
       "      <td>10.0</td>\n",
       "      <td>Never-married</td>\n",
       "      <td>Sales</td>\n",
       "      <td>Not-in-family</td>\n",
       "      <td>White</td>\n",
       "      <td>Female</td>\n",
       "      <td>0</td>\n",
       "      <td>0</td>\n",
       "      <td>15</td>\n",
       "      <td>United-States</td>\n",
       "      <td>&lt;50k</td>\n",
       "    </tr>\n",
       "  </tbody>\n",
       "</table>\n",
       "</div>"
      ],
      "text/plain": [
       "       age workclass  fnlwgt      education  education-num  marital-status  \\\n",
       "30561   46   Private  384795      Bachelors           13.0        Divorced   \n",
       "30562   24   Private  309055   Some-college           10.0   Never-married   \n",
       "\n",
       "            occupation    relationship    race      sex  capital-gain  \\\n",
       "30561   Prof-specialty       Unmarried   Black   Female             0   \n",
       "30562            Sales   Not-in-family   White   Female             0   \n",
       "\n",
       "       capital-loss  hours-per-week  native-country salary  \n",
       "30561             0              32   United-States   <50k  \n",
       "30562             0              15   United-States   <50k  "
      ]
     },
     "execution_count": 35,
     "metadata": {},
     "output_type": "execute_result"
    }
   ],
   "source": [
    "df.iloc[30561: 30563]"
   ]
  },
  {
   "cell_type": "markdown",
   "metadata": {},
   "source": [
    "### Simple NN model"
   ]
  },
  {
   "cell_type": "code",
   "execution_count": 36,
   "metadata": {
    "ExecuteTime": {
     "end_time": "2019-09-19T03:01:53.503851Z",
     "start_time": "2019-09-19T03:01:53.461964Z"
    }
   },
   "outputs": [],
   "source": [
    "learn = tabular_learner(data, layers = [200, 100], metrics = accuracy)"
   ]
  },
  {
   "cell_type": "code",
   "execution_count": 37,
   "metadata": {
    "ExecuteTime": {
     "end_time": "2019-09-19T03:02:48.930594Z",
     "start_time": "2019-09-19T03:02:18.902509Z"
    }
   },
   "outputs": [
    {
     "data": {
      "text/html": [],
      "text/plain": [
       "<IPython.core.display.HTML object>"
      ]
     },
     "metadata": {},
     "output_type": "display_data"
    },
    {
     "name": "stdout",
     "output_type": "stream",
     "text": [
      "LR Finder is complete, type {learner_name}.recorder.plot() to see the graph.\n"
     ]
    }
   ],
   "source": [
    "learn.lr_find()"
   ]
  },
  {
   "cell_type": "code",
   "execution_count": 38,
   "metadata": {
    "ExecuteTime": {
     "end_time": "2019-09-19T03:03:17.304999Z",
     "start_time": "2019-09-19T03:03:16.853844Z"
    }
   },
   "outputs": [
    {
     "data": {
      "image/png": "[encoded data removed]",
      "text/plain": [
       "<Figure size 432x288 with 1 Axes>"
      ]
     },
     "metadata": {
      "needs_background": "light"
     },
     "output_type": "display_data"
    }
   ],
   "source": [
    "learn.recorder.plot()"
   ]
  },
  {
   "cell_type": "code",
   "execution_count": 39,
   "metadata": {
    "ExecuteTime": {
     "end_time": "2019-09-19T03:04:30.874557Z",
     "start_time": "2019-09-19T03:03:34.366803Z"
    }
   },
   "outputs": [
    {
     "data": {
      "text/html": [
       "<table border=\"1\" class=\"dataframe\">\n",
       "  <thead>\n",
       "    <tr style=\"text-align: left;\">\n",
       "      <th>epoch</th>\n",
       "      <th>train_loss</th>\n",
       "      <th>valid_loss</th>\n",
       "      <th>accuracy</th>\n",
       "      <th>time</th>\n",
       "    </tr>\n",
       "  </thead>\n",
       "  <tbody>\n",
       "    <tr>\n",
       "      <td>0</td>\n",
       "      <td>0.321345</td>\n",
       "      <td>0.322771</td>\n",
       "      <td>0.847000</td>\n",
       "      <td>00:56</td>\n",
       "    </tr>\n",
       "  </tbody>\n",
       "</table>"
      ],
      "text/plain": [
       "<IPython.core.display.HTML object>"
      ]
     },
     "metadata": {},
     "output_type": "display_data"
    }
   ],
   "source": [
    "learn.fit_one_cycle(1, 1e-2)"
   ]
  },
  {
   "cell_type": "markdown",
   "metadata": {},
   "source": [
    "### NN Model with Embedding for all Catogorical Items"
   ]
  },
  {
   "cell_type": "code",
   "execution_count": 49,
   "metadata": {
    "ExecuteTime": {
     "end_time": "2019-09-19T03:23:11.634477Z",
     "start_time": "2019-09-19T03:23:11.606533Z"
    }
   },
   "outputs": [],
   "source": [
    "emb_szs = {'workclass': 9, 'education': 17, 'marital-status': 7, 'occupation': 16, 'relationship': 6, 'race': 5, 'sex': 2, 'native-country': 42}\n",
    "learn = tabular_learner(data, layers = [200, 100], emb_szs = emb_szs, metrics = accuracy)"
   ]
  },
  {
   "cell_type": "code",
   "execution_count": 50,
   "metadata": {
    "ExecuteTime": {
     "end_time": "2019-09-19T03:23:55.336249Z",
     "start_time": "2019-09-19T03:23:28.918182Z"
    }
   },
   "outputs": [
    {
     "data": {
      "text/html": [],
      "text/plain": [
       "<IPython.core.display.HTML object>"
      ]
     },
     "metadata": {},
     "output_type": "display_data"
    },
    {
     "name": "stdout",
     "output_type": "stream",
     "text": [
      "LR Finder is complete, type {learner_name}.recorder.plot() to see the graph.\n"
     ]
    },
    {
     "data": {
      "image/png": "[encoded data removed]",
      "text/plain": [
       "<Figure size 576x396 with 1 Axes>"
      ]
     },
     "metadata": {},
     "output_type": "display_data"
    }
   ],
   "source": [
    "learn.lr_find()\n",
    "learn.recorder.plot()"
   ]
  },
  {
   "cell_type": "code",
   "execution_count": 51,
   "metadata": {
    "ExecuteTime": {
     "end_time": "2019-09-19T03:25:58.004958Z",
     "start_time": "2019-09-19T03:25:01.413496Z"
    }
   },
   "outputs": [
    {
     "data": {
      "text/html": [
       "<table border=\"1\" class=\"dataframe\">\n",
       "  <thead>\n",
       "    <tr style=\"text-align: left;\">\n",
       "      <th>epoch</th>\n",
       "      <th>train_loss</th>\n",
       "      <th>valid_loss</th>\n",
       "      <th>accuracy</th>\n",
       "      <th>time</th>\n",
       "    </tr>\n",
       "  </thead>\n",
       "  <tbody>\n",
       "    <tr>\n",
       "      <td>0</td>\n",
       "      <td>0.324643</td>\n",
       "      <td>0.327961</td>\n",
       "      <td>0.840500</td>\n",
       "      <td>00:56</td>\n",
       "    </tr>\n",
       "  </tbody>\n",
       "</table>"
      ],
      "text/plain": [
       "<IPython.core.display.HTML object>"
      ]
     },
     "metadata": {},
     "output_type": "display_data"
    }
   ],
   "source": [
    "learn.fit_one_cycle(1, 1e-2)"
   ]
  },
  {
   "cell_type": "markdown",
   "metadata": {},
   "source": [
    "### LIME: Local Explanation"
   ]
  },
  {
   "cell_type": "markdown",
   "metadata": {},
   "source": [
    "https://blog.dominodatalab.com/shap-lime-python-libraries-part-1-great-explainers-pros-cons/"
   ]
  },
  {
   "cell_type": "code",
   "execution_count": 53,
   "metadata": {
    "ExecuteTime": {
     "end_time": "2019-09-19T03:29:05.161455Z",
     "start_time": "2019-09-19T03:28:15.117461Z"
    }
   },
   "outputs": [
    {
     "name": "stdout",
     "output_type": "stream",
     "text": [
      "Collecting lime\n",
      "  Downloading https://files.pythonhosted.org/packages/e5/72/4be533df5151fcb48942515e95e88281ec439396c48d67d3ae41f27586f0/lime-0.1.1.36.tar.gz (275kB)\n",
      "Requirement already satisfied: numpy in c:\\users\\sarad\\anaconda3\\envs\\resbazml\\lib\\site-packages (from lime) (1.16.4)\n",
      "Requirement already satisfied: scipy in c:\\users\\sarad\\anaconda3\\envs\\resbazml\\lib\\site-packages (from lime) (1.2.1)\n",
      "Requirement already satisfied: scikit-learn>=0.18 in c:\\users\\sarad\\anaconda3\\envs\\resbazml\\lib\\site-packages (from lime) (0.21.2)\n",
      "Requirement already satisfied: matplotlib in c:\\users\\sarad\\anaconda3\\envs\\resbazml\\lib\\site-packages (from lime) (3.1.0)\n",
      "Collecting scikit-image>=0.12 (from lime)\n",
      "  Downloading https://files.pythonhosted.org/packages/79/16/c5a36a03f90d4a246791d4ff1879f1868e1c5db58fac9f03427395c5e2d6/scikit_image-0.15.0-cp37-none-win_amd64.whl (25.6MB)\n",
      "Requirement already satisfied: joblib>=0.11 in c:\\users\\sarad\\anaconda3\\envs\\resbazml\\lib\\site-packages (from scikit-learn>=0.18->lime) (0.13.2)\n",
      "Requirement already satisfied: cycler>=0.10 in c:\\users\\sarad\\anaconda3\\envs\\resbazml\\lib\\site-packages (from matplotlib->lime) (0.10.0)\n",
      "Requirement already satisfied: kiwisolver>=1.0.1 in c:\\users\\sarad\\anaconda3\\envs\\resbazml\\lib\\site-packages (from matplotlib->lime) (1.1.0)\n",
      "Requirement already satisfied: python-dateutil>=2.1 in c:\\users\\sarad\\anaconda3\\envs\\resbazml\\lib\\site-packages (from matplotlib->lime) (2.8.0)\n",
      "Requirement already satisfied: pyparsing!=2.0.4,!=2.1.2,!=2.1.6,>=2.0.1 in c:\\users\\sarad\\anaconda3\\envs\\resbazml\\lib\\site-packages (from matplotlib->lime) (2.4.0)\n",
      "Collecting networkx>=2.0 (from scikit-image>=0.12->lime)\n",
      "  Downloading https://files.pythonhosted.org/packages/85/08/f20aef11d4c343b557e5de6b9548761811eb16e438cee3d32b1c66c8566b/networkx-2.3.zip (1.7MB)\n",
      "Collecting imageio>=2.0.1 (from scikit-image>=0.12->lime)\n",
      "  Downloading https://files.pythonhosted.org/packages/af/0a/943c965d372dae0b1f1482677d29030ab834351a61a9a632fd62f27f1523/imageio-2.5.0-py3-none-any.whl (3.3MB)\n",
      "Requirement already satisfied: pillow>=4.3.0 in c:\\users\\sarad\\anaconda3\\envs\\resbazml\\lib\\site-packages (from scikit-image>=0.12->lime) (5.2.0)\n",
      "Collecting PyWavelets>=0.4.0 (from scikit-image>=0.12->lime)\n",
      "  Downloading https://files.pythonhosted.org/packages/71/57/1b6c06f2b681975e5b43ff13ba127031f668d65b592cc56fae6445b675c7/PyWavelets-1.0.3-cp37-none-win_amd64.whl (4.2MB)\n",
      "Requirement already satisfied: six in c:\\users\\sarad\\anaconda3\\envs\\resbazml\\lib\\site-packages (from cycler>=0.10->matplotlib->lime) (1.12.0)\n",
      "Requirement already satisfied: setuptools in c:\\users\\sarad\\anaconda3\\envs\\resbazml\\lib\\site-packages (from kiwisolver>=1.0.1->matplotlib->lime) (41.0.1)\n",
      "Requirement already satisfied: decorator>=4.3.0 in c:\\users\\sarad\\anaconda3\\envs\\resbazml\\lib\\site-packages (from networkx>=2.0->scikit-image>=0.12->lime) (4.4.0)\n",
      "Building wheels for collected packages: lime, networkx\n",
      "  Building wheel for lime (setup.py): started\n",
      "  Building wheel for lime (setup.py): finished with status 'done'\n",
      "  Stored in directory: C:\\Users\\sarad\\AppData\\Local\\pip\\Cache\\wheels\\a9\\2f\\25\\4b2127822af5761dab9a27be52e175105772aebbcbc484fb95\n",
      "  Building wheel for networkx (setup.py): started\n",
      "  Building wheel for networkx (setup.py): finished with status 'done'\n",
      "  Stored in directory: C:\\Users\\sarad\\AppData\\Local\\pip\\Cache\\wheels\\de\\63\\64\\3699be2a9d0ccdb37c7f16329acf3863fd76eda58c39c737af\n",
      "Successfully built lime networkx\n",
      "Installing collected packages: networkx, imageio, PyWavelets, scikit-image, lime\n",
      "Successfully installed PyWavelets-1.0.3 imageio-2.5.0 lime-0.1.1.36 networkx-2.3 scikit-image-0.15.0\n"
     ]
    }
   ],
   "source": [
    "!pip install lime"
   ]
  },
  {
   "cell_type": "code",
   "execution_count": 54,
   "metadata": {
    "ExecuteTime": {
     "end_time": "2019-09-19T03:29:06.223418Z",
     "start_time": "2019-09-19T03:29:05.562383Z"
    }
   },
   "outputs": [],
   "source": [
    "import lime\n",
    "import lime.lime_tabular"
   ]
  },
  {
   "cell_type": "code",
   "execution_count": 66,
   "metadata": {
    "ExecuteTime": {
     "end_time": "2019-09-19T08:39:42.235310Z",
     "start_time": "2019-09-19T08:39:42.213362Z"
    }
   },
   "outputs": [
    {
     "ename": "AttributeError",
     "evalue": "shape",
     "output_type": "error",
     "traceback": [
      "\u001b[1;31m---------------------------------------------------------------------------\u001b[0m",
      "\u001b[1;31mAttributeError\u001b[0m                            Traceback (most recent call last)",
      "\u001b[1;32m<ipython-input-66-901f2c2cc395>\u001b[0m in \u001b[0;36m<module>\u001b[1;34m\u001b[0m\n\u001b[0;32m      1\u001b[0m \u001b[0mfeature_names\u001b[0m \u001b[1;33m=\u001b[0m \u001b[0mdf\u001b[0m\u001b[1;33m[\u001b[0m\u001b[1;33m[\u001b[0m\u001b[1;34m'education-num'\u001b[0m\u001b[1;33m,\u001b[0m\u001b[1;34m'age'\u001b[0m\u001b[1;33m,\u001b[0m\u001b[1;34m'hours-per-week'\u001b[0m\u001b[1;33m,\u001b[0m\u001b[1;34m'capital-gain'\u001b[0m\u001b[1;33m,\u001b[0m\u001b[1;34m'fnlwgt'\u001b[0m\u001b[1;33m,\u001b[0m\u001b[1;34m'capital-loss'\u001b[0m\u001b[1;33m]\u001b[0m\u001b[1;33m]\u001b[0m\u001b[1;33m\u001b[0m\u001b[1;33m\u001b[0m\u001b[0m\n\u001b[0;32m      2\u001b[0m \u001b[1;33m\u001b[0m\u001b[0m\n\u001b[1;32m----> 3\u001b[1;33m \u001b[0mlime\u001b[0m\u001b[1;33m.\u001b[0m\u001b[0mlime_tabular\u001b[0m\u001b[1;33m.\u001b[0m\u001b[0mLimeTabularExplainer\u001b[0m\u001b[1;33m(\u001b[0m\u001b[0mdata\u001b[0m\u001b[1;33m.\u001b[0m\u001b[0mvalid_ds\u001b[0m\u001b[1;33m,\u001b[0m \u001b[0mfeature_names\u001b[0m\u001b[1;33m=\u001b[0m\u001b[0mfeature_names\u001b[0m\u001b[1;33m,\u001b[0m \u001b[0mdiscretize_continuous\u001b[0m\u001b[1;33m=\u001b[0m\u001b[1;32mTrue\u001b[0m\u001b[1;33m)\u001b[0m\u001b[1;33m\u001b[0m\u001b[1;33m\u001b[0m\u001b[0m\n\u001b[0m",
      "\u001b[1;32m~\\Anaconda3\\envs\\resbazml\\lib\\site-packages\\lime\\lime_tabular.py\u001b[0m in \u001b[0;36m__init__\u001b[1;34m(self, training_data, mode, training_labels, feature_names, categorical_features, categorical_names, kernel_width, kernel, verbose, class_names, feature_selection, discretize_continuous, discretizer, sample_around_instance, random_state, training_data_stats)\u001b[0m\n\u001b[0;32m    214\u001b[0m                 self.discretizer = QuartileDiscretizer(\n\u001b[0;32m    215\u001b[0m                         \u001b[0mtraining_data\u001b[0m\u001b[1;33m,\u001b[0m \u001b[0mself\u001b[0m\u001b[1;33m.\u001b[0m\u001b[0mcategorical_features\u001b[0m\u001b[1;33m,\u001b[0m\u001b[1;33m\u001b[0m\u001b[1;33m\u001b[0m\u001b[0m\n\u001b[1;32m--> 216\u001b[1;33m                         self.feature_names, labels=training_labels)\n\u001b[0m\u001b[0;32m    217\u001b[0m             \u001b[1;32melif\u001b[0m \u001b[0mdiscretizer\u001b[0m \u001b[1;33m==\u001b[0m \u001b[1;34m'decile'\u001b[0m\u001b[1;33m:\u001b[0m\u001b[1;33m\u001b[0m\u001b[1;33m\u001b[0m\u001b[0m\n\u001b[0;32m    218\u001b[0m                 self.discretizer = DecileDiscretizer(\n",
      "\u001b[1;32m~\\Anaconda3\\envs\\resbazml\\lib\\site-packages\\lime\\discretize.py\u001b[0m in \u001b[0;36m__init__\u001b[1;34m(self, data, categorical_features, feature_names, labels, random_state)\u001b[0m\n\u001b[0;32m    190\u001b[0m         BaseDiscretizer.__init__(self, data, categorical_features,\n\u001b[0;32m    191\u001b[0m                                  \u001b[0mfeature_names\u001b[0m\u001b[1;33m,\u001b[0m \u001b[0mlabels\u001b[0m\u001b[1;33m=\u001b[0m\u001b[0mlabels\u001b[0m\u001b[1;33m,\u001b[0m\u001b[1;33m\u001b[0m\u001b[1;33m\u001b[0m\u001b[0m\n\u001b[1;32m--> 192\u001b[1;33m                                  random_state=random_state)\n\u001b[0m\u001b[0;32m    193\u001b[0m \u001b[1;33m\u001b[0m\u001b[0m\n\u001b[0;32m    194\u001b[0m     \u001b[1;32mdef\u001b[0m \u001b[0mbins\u001b[0m\u001b[1;33m(\u001b[0m\u001b[0mself\u001b[0m\u001b[1;33m,\u001b[0m \u001b[0mdata\u001b[0m\u001b[1;33m,\u001b[0m \u001b[0mlabels\u001b[0m\u001b[1;33m)\u001b[0m\u001b[1;33m:\u001b[0m\u001b[1;33m\u001b[0m\u001b[1;33m\u001b[0m\u001b[0m\n",
      "\u001b[1;32m~\\Anaconda3\\envs\\resbazml\\lib\\site-packages\\lime\\discretize.py\u001b[0m in \u001b[0;36m__init__\u001b[1;34m(self, data, categorical_features, feature_names, labels, random_state, data_stats)\u001b[0m\n\u001b[0;32m     37\u001b[0m                 \u001b[1;32mif\u001b[0m \u001b[0myou\u001b[0m \u001b[0mdon\u001b[0m\u001b[0;31m'\u001b[0m\u001b[0mt\u001b[0m \u001b[0mwant\u001b[0m \u001b[0mthese\u001b[0m \u001b[0mvalues\u001b[0m \u001b[0mto\u001b[0m \u001b[0mbe\u001b[0m \u001b[0mcomputed\u001b[0m \u001b[1;32mfrom\u001b[0m \u001b[0mdata\u001b[0m\u001b[1;33m\u001b[0m\u001b[1;33m\u001b[0m\u001b[0m\n\u001b[0;32m     38\u001b[0m         \"\"\"\n\u001b[1;32m---> 39\u001b[1;33m         self.to_discretize = ([x for x in range(data.shape[1])\n\u001b[0m\u001b[0;32m     40\u001b[0m                                if x not in categorical_features])\n\u001b[0;32m     41\u001b[0m         \u001b[0mself\u001b[0m\u001b[1;33m.\u001b[0m\u001b[0mdata_stats\u001b[0m \u001b[1;33m=\u001b[0m \u001b[0mdata_stats\u001b[0m\u001b[1;33m\u001b[0m\u001b[1;33m\u001b[0m\u001b[0m\n",
      "\u001b[1;32m~\\Anaconda3\\envs\\resbazml\\lib\\site-packages\\fastai\\data_block.py\u001b[0m in \u001b[0;36m__getattr__\u001b[1;34m(self, k)\u001b[0m\n\u001b[0;32m    637\u001b[0m         \u001b[0mres\u001b[0m \u001b[1;33m=\u001b[0m \u001b[0mgetattr\u001b[0m\u001b[1;33m(\u001b[0m\u001b[0my\u001b[0m\u001b[1;33m,\u001b[0m \u001b[0mk\u001b[0m\u001b[1;33m,\u001b[0m \u001b[1;32mNone\u001b[0m\u001b[1;33m)\u001b[0m\u001b[1;33m\u001b[0m\u001b[1;33m\u001b[0m\u001b[0m\n\u001b[0;32m    638\u001b[0m         \u001b[1;32mif\u001b[0m \u001b[0mres\u001b[0m \u001b[1;32mis\u001b[0m \u001b[1;32mnot\u001b[0m \u001b[1;32mNone\u001b[0m\u001b[1;33m:\u001b[0m \u001b[1;32mreturn\u001b[0m \u001b[0mres\u001b[0m\u001b[1;33m\u001b[0m\u001b[1;33m\u001b[0m\u001b[0m\n\u001b[1;32m--> 639\u001b[1;33m         \u001b[1;32mraise\u001b[0m \u001b[0mAttributeError\u001b[0m\u001b[1;33m(\u001b[0m\u001b[0mk\u001b[0m\u001b[1;33m)\u001b[0m\u001b[1;33m\u001b[0m\u001b[1;33m\u001b[0m\u001b[0m\n\u001b[0m\u001b[0;32m    640\u001b[0m \u001b[1;33m\u001b[0m\u001b[0m\n\u001b[0;32m    641\u001b[0m     \u001b[1;32mdef\u001b[0m \u001b[0m__setstate__\u001b[0m\u001b[1;33m(\u001b[0m\u001b[0mself\u001b[0m\u001b[1;33m,\u001b[0m\u001b[0mdata\u001b[0m\u001b[1;33m:\u001b[0m\u001b[0mAny\u001b[0m\u001b[1;33m)\u001b[0m\u001b[1;33m:\u001b[0m \u001b[0mself\u001b[0m\u001b[1;33m.\u001b[0m\u001b[0m__dict__\u001b[0m\u001b[1;33m.\u001b[0m\u001b[0mupdate\u001b[0m\u001b[1;33m(\u001b[0m\u001b[0mdata\u001b[0m\u001b[1;33m)\u001b[0m\u001b[1;33m\u001b[0m\u001b[1;33m\u001b[0m\u001b[0m\n",
      "\u001b[1;31mAttributeError\u001b[0m: shape"
     ]
    }
   ],
   "source": [
    "feature_names = df[['education-num','age','hours-per-week','capital-gain','fnlwgt','capital-loss']]\n",
    "\n",
    "lime.lime_tabular.LimeTabularExplainer(data.valid_ds, feature_names=feature_names, discretize_continuous=True)"
   ]
  },
  {
   "cell_type": "code",
   "execution_count": 67,
   "metadata": {
    "ExecuteTime": {
     "end_time": "2019-09-19T08:40:01.717829Z",
     "start_time": "2019-09-19T08:40:01.628952Z"
    }
   },
   "outputs": [],
   "source": [
    "lime.lime_tabular.LimeTabularExplainer??"
   ]
  },
  {
   "cell_type": "code",
   "execution_count": null,
   "metadata": {},
   "outputs": [],
   "source": []
  }
 ],
 "metadata": {
  "kernelspec": {
   "display_name": "resbazml",
   "language": "python",
   "name": "resbazml"
  },
  "language_info": {
   "codemirror_mode": {
    "name": "ipython",
    "version": 3
   },
   "file_extension": ".py",
   "mimetype": "text/x-python",
   "name": "python",
   "nbconvert_exporter": "python",
   "pygments_lexer": "ipython3",
   "version": "3.7.3"
  },
  "varInspector": {
   "cols": {
    "lenName": 16,
    "lenType": 16,
    "lenVar": 40
   },
   "kernels_config": {
    "python": {
     "delete_cmd_postfix": "",
     "delete_cmd_prefix": "del ",
     "library": "var_list.py",
     "varRefreshCmd": "print(var_dic_list())"
    },
    "r": {
     "delete_cmd_postfix": ") ",
     "delete_cmd_prefix": "rm(",
     "library": "var_list.r",
     "varRefreshCmd": "cat(var_dic_list()) "
    }
   },
   "types_to_exclude": [
    "module",
    "function",
    "builtin_function_or_method",
    "instance",
    "_Feature"
   ],
   "window_display": false
  }
 },
 "nbformat": 4,
 "nbformat_minor": 2
}
